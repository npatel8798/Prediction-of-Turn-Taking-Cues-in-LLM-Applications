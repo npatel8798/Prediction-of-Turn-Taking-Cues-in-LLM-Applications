{
 "cells": [
  {
   "cell_type": "code",
   "execution_count": 1,
   "id": "77da355b-d595-4375-8f07-1b58aea18c27",
   "metadata": {},
   "outputs": [
    {
     "data": {
      "application/vnd.jupyter.widget-view+json": {
       "model_id": "d00e9ad6044c4e32b3fd66c576cb1f6e",
       "version_major": 2,
       "version_minor": 0
      },
      "text/plain": [
       "Loading checkpoint shards:   0%|          | 0/2 [00:00<?, ?it/s]"
      ]
     },
     "metadata": {},
     "output_type": "display_data"
    }
   ],
   "source": [
    "from transformers import LlamaForCausalLM, LlamaTokenizer, Trainer, TrainingArguments\n",
    "from datasets import load_dataset\n",
    "\n",
    "# Load the pretrained model and tokenizer\n",
    "model = LlamaForCausalLM.from_pretrained(\"models/meta/Llama-2-7b-chat-hf\")\n",
    "tokenizer = LlamaTokenizer.from_pretrained(\"models/meta/Llama-2-7b-chat-hf\")"
   ]
  },
  {
   "cell_type": "code",
   "execution_count": 2,
   "id": "cd416fbe-d8e2-4d54-bda0-6fbc57c0ad60",
   "metadata": {},
   "outputs": [
    {
     "data": {
      "text/plain": [
       "32000"
      ]
     },
     "execution_count": 2,
     "metadata": {},
     "output_type": "execute_result"
    }
   ],
   "source": [
    "len(tokenizer)"
   ]
  },
  {
   "cell_type": "code",
   "execution_count": 3,
   "id": "4e725593-5472-40ca-9f11-fb56c2073e17",
   "metadata": {},
   "outputs": [
    {
     "data": {
      "text/plain": [
       "(['<s>', '</s>', '<unk>'], [1, 2, 0])"
      ]
     },
     "execution_count": 3,
     "metadata": {},
     "output_type": "execute_result"
    }
   ],
   "source": [
    "tokenizer.all_special_tokens, tokenizer.all_special_ids"
   ]
  },
  {
   "cell_type": "code",
   "execution_count": 4,
   "id": "0dd7aa04-bf23-4382-ba59-54f88e4b6e8f",
   "metadata": {},
   "outputs": [
    {
     "data": {
      "text/plain": [
       "1"
      ]
     },
     "execution_count": 4,
     "metadata": {},
     "output_type": "execute_result"
    }
   ],
   "source": [
    "tokenizer.add_special_tokens({\"additional_special_tokens\": [\"<trp>\"]})"
   ]
  },
  {
   "cell_type": "code",
   "execution_count": 5,
   "id": "4406e998-1475-485d-8d55-026d9a01b746",
   "metadata": {},
   "outputs": [
    {
     "data": {
      "text/plain": [
       "Embedding(32001, 4096)"
      ]
     },
     "execution_count": 5,
     "metadata": {},
     "output_type": "execute_result"
    }
   ],
   "source": [
    "model.resize_token_embeddings(len(tokenizer))"
   ]
  },
  {
   "cell_type": "code",
   "execution_count": 6,
   "id": "46e88934-16d5-49d1-bf5a-7de05ef30a9d",
   "metadata": {},
   "outputs": [
    {
     "data": {
      "text/plain": [
       "(['<s>', '</s>', '<unk>', '<trp>'], [1, 2, 0, 32000])"
      ]
     },
     "execution_count": 6,
     "metadata": {},
     "output_type": "execute_result"
    }
   ],
   "source": [
    "tokenizer.all_special_tokens, tokenizer.all_special_ids"
   ]
  },
  {
   "cell_type": "code",
   "execution_count": 7,
   "id": "ecf2e08b-23a7-4fc3-baa7-ef8c12a0df65",
   "metadata": {},
   "outputs": [
    {
     "data": {
      "text/plain": [
       "32001"
      ]
     },
     "execution_count": 7,
     "metadata": {},
     "output_type": "execute_result"
    }
   ],
   "source": [
    "len(tokenizer)"
   ]
  }
 ],
 "metadata": {
  "kernelspec": {
   "display_name": "Python 3 (ipykernel)",
   "language": "python",
   "name": "python3"
  },
  "language_info": {
   "codemirror_mode": {
    "name": "ipython",
    "version": 3
   },
   "file_extension": ".py",
   "mimetype": "text/x-python",
   "name": "python",
   "nbconvert_exporter": "python",
   "pygments_lexer": "ipython3",
   "version": "3.8.10"
  }
 },
 "nbformat": 4,
 "nbformat_minor": 5
}
